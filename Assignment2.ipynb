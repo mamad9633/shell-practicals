{
 "cells": [
  {
   "cell_type": "markdown",
   "metadata": {},
   "source": [
    "ELhadji Mamadou Mbaye\n",
    "ASSIGNMENT 2"
   ]
  },
  {
   "cell_type": "markdown",
   "metadata": {},
   "source": [
    "Write a python script that asks the user for the values of x and y and uses these inputs to\n",
    "compute the numerical value of the expression\n",
    "p\n",
    "x2+y\n",
    "1\n",
    "x + 2 sin y\n",
    ":"
   ]
  },
  {
   "cell_type": "code",
   "execution_count": 6,
   "metadata": {},
   "outputs": [
    {
     "name": "stdout",
     "output_type": "stream",
     "text": [
      "Enter value: 1\n",
      "Enter another value: 2\n",
      "0.35\n"
     ]
    }
   ],
   "source": [
    "from math import sqrt\n",
    "from math import sin\n",
    "x=int(input('Enter value: '))\n",
    "y=int(input('Enter another value: '))\n",
    "E= sqrt(x**(2+y))/((1/x)+(2*sin(y)))\n",
    "print(round(E,2))"
   ]
  },
  {
   "cell_type": "markdown",
   "metadata": {},
   "source": [
    "Write a function that given two integers b and n (n is positive), calculates bn without using\n",
    "python’s power operator. Name this function ownpowerfn.py."
   ]
  },
  {
   "cell_type": "code",
   "execution_count": 12,
   "metadata": {},
   "outputs": [
    {
     "name": "stdout",
     "output_type": "stream",
     "text": [
      "16\n"
     ]
    }
   ],
   "source": [
    "def ownpowerfn(b,n):\n",
    "    i=0\n",
    "    S=1\n",
    "    while i<n:\n",
    "        S=S*b\n",
    "        i+=1\n",
    "   \n",
    "    print(S)\n",
    "ownpowerfn(2,4)"
   ]
  },
  {
   "cell_type": "markdown",
   "metadata": {},
   "source": [
    "PS: What if we do not specify that n has to be positive?"
   ]
  },
  {
   "cell_type": "code",
   "execution_count": 13,
   "metadata": {},
   "outputs": [
    {
     "name": "stdout",
     "output_type": "stream",
     "text": [
      "1\n"
     ]
    }
   ],
   "source": [
    "ownpowerfn(2,-1)"
   ]
  },
  {
   "cell_type": "code",
   "execution_count": 20,
   "metadata": {},
   "outputs": [
    {
     "data": {
      "text/plain": [
       "3.4641016151377544"
      ]
     },
     "execution_count": 20,
     "metadata": {},
     "output_type": "execute_result"
    }
   ],
   "source": [
    "from math import sqrt\n",
    "def arithmetic_mean(a,b):\n",
    "    ma=sqrt(a*b)\n",
    "    return ma\n",
    "\n",
    "def geometric_mean(a,b):\n",
    "    mg=(1/2)*(a+b)\n",
    "    return mg\n",
    "arithmetic_mean(3,4)"
   ]
  },
  {
   "cell_type": "code",
   "execution_count": 21,
   "metadata": {},
   "outputs": [
    {
     "data": {
      "text/plain": [
       "3.5"
      ]
     },
     "execution_count": 21,
     "metadata": {},
     "output_type": "execute_result"
    }
   ],
   "source": [
    "\n",
    "geometric_mean(3,4)"
   ]
  },
  {
   "cell_type": "markdown",
   "metadata": {},
   "source": [
    "Converts degree Celsius to Fahrenheit and vice versa. Name these two functions\n",
    "celcius_to_fahrenheit and fahrenheit_to_celcius respectively."
   ]
  },
  {
   "cell_type": "code",
   "execution_count": 23,
   "metadata": {},
   "outputs": [
    {
     "data": {
      "text/plain": [
       "95.36000000000001"
      ]
     },
     "execution_count": 23,
     "metadata": {},
     "output_type": "execute_result"
    }
   ],
   "source": [
    "def celsius_to_fahrenheit(d):\n",
    "    r0=d*(9/5)+32\n",
    "    return r0\n",
    "def fahrenheit_to_celsius(f):\n",
    "    r3=(f-32)*(9/5)\n",
    "    return r3\n",
    "celsius_to_fahrenheit(35.2)"
   ]
  },
  {
   "cell_type": "code",
   "execution_count": 24,
   "metadata": {},
   "outputs": [
    {
     "data": {
      "text/plain": [
       "15"
      ]
     },
     "execution_count": 24,
     "metadata": {},
     "output_type": "execute_result"
    }
   ],
   "source": [
    "fahrenheit_to_celsius(15)"
   ]
  },
  {
   "cell_type": "markdown",
   "metadata": {},
   "source": [
    "Converts angle in degrees to radians and vice versa. Name these two functions\n",
    "degrees_to_radians and radians_to_degrees respectively."
   ]
  },
  {
   "cell_type": "code",
   "execution_count": 26,
   "metadata": {},
   "outputs": [
    {
     "data": {
      "text/plain": [
       "0.08726646259971647"
      ]
     },
     "execution_count": 26,
     "metadata": {},
     "output_type": "execute_result"
    }
   ],
   "source": [
    "from math import pi\n",
    "def deg_rad(a):\n",
    "    r1=(pi/180)*a\n",
    "    return r1\n",
    "def rad_deg(b):\n",
    "    r2=(180/pi)*b\n",
    "    return r2\n",
    "deg_rad(5)"
   ]
  },
  {
   "cell_type": "code",
   "execution_count": 27,
   "metadata": {},
   "outputs": [
    {
     "data": {
      "text/plain": [
       "286.4788975654116"
      ]
     },
     "execution_count": 27,
     "metadata": {},
     "output_type": "execute_result"
    }
   ],
   "source": [
    "rad_deg(5)\n",
    "       "
   ]
  },
  {
   "cell_type": "markdown",
   "metadata": {},
   "source": [
    "Computes the circumference and the area of a circle given the radius."
   ]
  },
  {
   "cell_type": "code",
   "execution_count": 29,
   "metadata": {},
   "outputs": [
    {
     "name": "stdout",
     "output_type": "stream",
     "text": [
      "CIrcumference is 31.42\n",
      "Area is 78.54\n"
     ]
    }
   ],
   "source": [
    "from math import pi\n",
    "def circ_and_area(r):\n",
    "    C=2*pi*r\n",
    "    A=pi*r*r\n",
    "    print('Circumference is',round(C,2))\n",
    "    print('Area is',round(A,2))\n",
    "    \n",
    "circ_and_area(5)    "
   ]
  },
  {
   "cell_type": "markdown",
   "metadata": {},
   "source": [
    "Write functions that do the following:\n",
    "a) Given two numbers, compute their average and geometrical mean and prints them.\n",
    "Now write a program that performs this process 10 times, taking as input the means\n",
    "computed in the previous step. Name this function avggeom."
   ]
  },
  {
   "cell_type": "code",
   "execution_count": 30,
   "metadata": {},
   "outputs": [
    {
     "name": "stdout",
     "output_type": "stream",
     "text": [
      "la moyenne geometrique repete 10 fois est: 1.3741088103166372\n",
      "la moyenne arithmetique repete 10 fois est: 1.0\n"
     ]
    }
   ],
   "source": [
    "from math import sqrt\n",
    "def arithmetic_mean(a,b):\n",
    "    ma=sqrt(a*b)\n",
    "    return ma\n",
    "def geometric_mean(a,b):\n",
    "    mg=(1/2)*(a+b)\n",
    "    return mg\n",
    "arithmetic_mean(3,4)\n",
    "def avggeom(ma,mb):\n",
    "    ma10=(ma*mb)**(1/10)\n",
    "    print('la moyenne geometrique repete 10 fois est:',ma10)\n",
    "    mb10=(ma+mb)*(1/10)\n",
    "    print('la moyenne arithmetique repete 10 fois est:',mb10)\n",
    "avggeom(4,6)"
   ]
  },
  {
   "cell_type": "markdown",
   "metadata": {},
   "source": [
    "Write a function that computes the distance between two points in the plane. Use\n",
    "it in another program that computes the perimeter and the area of a triangle, given\n",
    "three points in the plane. Name this function distancefn."
   ]
  },
  {
   "cell_type": "code",
   "execution_count": 8,
   "metadata": {},
   "outputs": [],
   "source": [
    "from math import sqrt\n",
    "#Aire d'un triangle = (Base × hauteur) : 2 soit : A = (B × h) : 2. Pour calculer l'aire d'un triangle rectangle, on peut utiliser la formule de l'aire d'un rectangle, mais il faudra diviser le résultat obtenu par 2.\n",
    "def dist(xa,ya,xb,yb):\n",
    "    r1=sqrt(((xb-xa)**2)+((yb-ya)**2))\n",
    "    return r1\n",
    "dist(-5,3,8,1)\n",
    "#Calculons le perimetre en calculant la distance de trois points\n",
    "xa, ya=3,5 \n",
    "xb, yb=1,2\n",
    "xc, yc=5,2\n",
    "i=int(dist(xa,ya,xb,yb))\n",
    "j=int(dist(xb,yb,xc,yc))\n",
    "k=int(dist(xc,yc,xa,ya))\n",
    "def distancefn(i,j,k):\n",
    "#Calcul du perimetre\n",
    "    p=i+j+k\n",
    "    print('Le perimetre est de ',p)\n",
    "#Aire d'un triangle = √ p (p − a) (p − b) (p − c)  d'après la Formule d'Héron \n",
    "    A=sqrt((p*(p-i)*p(p-j)*p(p-k)))\n",
    "    print('L\\'aire est de ',A)"
   ]
  },
  {
   "cell_type": "markdown",
   "metadata": {},
   "source": [
    "Write a program that offers three options to the user:\n",
    "1.Evaluation of actorial\n",
    "2.Evaluation of a second degree equation\n",
    "3.Exit\n",
    "The user selects one of the options and then the program requests the data needed and\n",
    "calls the corresponding function to produce a result. The program then repeats the process\n",
    "until the user says he wants to exit. Name this function fact2nddeg."
   ]
  },
  {
   "cell_type": "code",
   "execution_count": 8,
   "metadata": {},
   "outputs": [],
   "source": [
    "def fact2nddeg():\n",
    "    print('You have three options\\n1.Evaluation of actorial\\n2.Evaluation of a second degree equation\\n3.Exit')\n",
    "    rep=int((input('choisissez une option:' )))\n",
    "    if rep==1:\n",
    "            print('Evaluation of actorial')\n",
    "    elif rep==2:\n",
    "            print('Evaluation of a second degree equation')\n",
    "    elif rep==3:   \n",
    "            print('Goodbye')\n",
    "    else:\n",
    "         print('Veuillez choisir entre 1,2 ou 3 svp,')\n",
    "fact2nddeg()"
   ]
  },
  {
   "cell_type": "markdown",
   "metadata": {},
   "source": [
    "For a fixed real number x and a natural number n, we can define recursively xn using the\n",
    "relations:\n",
    "x0 = 1 and xn+1 = x:xn:"
   ]
  },
  {
   "cell_type": "code",
   "execution_count": 29,
   "metadata": {
    "collapsed": true
   },
   "outputs": [
    {
     "ename": "SyntaxError",
     "evalue": "can't assign to operator (<ipython-input-29-20443f6945c3>, line 2)",
     "output_type": "error",
     "traceback": [
      "\u001b[0;36m  File \u001b[0;32m\"<ipython-input-29-20443f6945c3>\"\u001b[0;36m, line \u001b[0;32m2\u001b[0m\n\u001b[0;31m    x**(n+1)=x*x**(n)\u001b[0m\n\u001b[0m    ^\u001b[0m\n\u001b[0;31mSyntaxError\u001b[0m\u001b[0;31m:\u001b[0m can't assign to operator\n"
     ]
    }
   ],
   "source": [
    "def u(x,n):\n",
    "          print(x**(n+1))\n",
    "          print(x*x**(n))\n",
    "    "
   ]
  },
  {
   "cell_type": "code",
   "execution_count": 28,
   "metadata": {},
   "outputs": [
    {
     "name": "stdout",
     "output_type": "stream",
     "text": [
      "16\n",
      "16\n"
     ]
    }
   ],
   "source": [
    "u(2,3)"
   ]
  },
  {
   "cell_type": "markdown",
   "metadata": {},
   "source": [
    "Write code that implements the Fibonacci sequence. Test your program at 100."
   ]
  },
  {
   "cell_type": "code",
   "execution_count": 30,
   "metadata": {},
   "outputs": [
    {
     "name": "stdout",
     "output_type": "stream",
     "text": [
      "Entrez un nombre: 100\n",
      "\n",
      " la suite fibonacci est :\n",
      "0 , 1, 1, 2, 3, 5, 8, 13, 21, 34, 55, 89, 144, 233, 377, 610, 987, 1597, 2584, 4181, 6765, 10946, 17711, 28657, 46368, 75025, 121393, 196418, 317811, 514229, 832040, 1346269, 2178309, 3524578, 5702887, 9227465, 14930352, 24157817, 39088169, 63245986, 102334155, 165580141, 267914296, 433494437, 701408733, 1134903170, 1836311903, 2971215073, 4807526976, 7778742049, 12586269025, 20365011074, 32951280099, 53316291173, 86267571272, 139583862445, 225851433717, 365435296162, 591286729879, 956722026041, 1548008755920, 2504730781961, 4052739537881, 6557470319842, 10610209857723, 17167680177565, 27777890035288, 44945570212853, 72723460248141, 117669030460994, 190392490709135, 308061521170129, 498454011879264, 806515533049393, 1304969544928657, 2111485077978050, 3416454622906707, 5527939700884757, 8944394323791464, 14472334024676221, 23416728348467685, 37889062373143906, 61305790721611591, 99194853094755497, 160500643816367088, 259695496911122585, 420196140727489673, 679891637638612258, 1100087778366101931, 1779979416004714189, 2880067194370816120, 4660046610375530309, 7540113804746346429, 12200160415121876738, 19740274219868223167, 31940434634990099905, 51680708854858323072, 83621143489848422977, 135301852344706746049, 218922995834555169026, "
     ]
    }
   ],
   "source": [
    "nterms = int(input(\"Entrez un nombre: \"))\n",
    "n1 = 0\n",
    "n2 = 1 \n",
    "print(\"\\n la suite fibonacci est :\")\n",
    "print(n1, \",\", n2, end=\", \") \n",
    "for i in range(2, nterms):\n",
    "    suivant = n1 + n2\n",
    "    print(suivant, end=\", \")\n",
    "    n1 = n2\n",
    "    n2 = suivant"
   ]
  },
  {
   "cell_type": "code",
   "execution_count": null,
   "metadata": {},
   "outputs": [],
   "source": []
  }
 ],
 "metadata": {
  "kernelspec": {
   "display_name": "Python 3",
   "language": "python",
   "name": "python3"
  },
  "language_info": {
   "codemirror_mode": {
    "name": "ipython",
    "version": 3
   },
   "file_extension": ".py",
   "mimetype": "text/x-python",
   "name": "python",
   "nbconvert_exporter": "python",
   "pygments_lexer": "ipython3",
   "version": "3.7.3"
  }
 },
 "nbformat": 4,
 "nbformat_minor": 2
}
