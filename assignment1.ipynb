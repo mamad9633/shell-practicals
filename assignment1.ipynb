{
 "cells": [
  {
   "cell_type": "code",
   "execution_count": 7,
   "metadata": {},
   "outputs": [
    {
     "name": "stdout",
     "output_type": "stream",
     "text": [
      "Enter a natural number:5\n",
      "9\n",
      "Enter a natural number:5\n",
      "105\n"
     ]
    }
   ],
   "source": [
    "n=int(input('Enter a natural number:'))\n",
    "S=0\n",
    "for i in range(0,n,3):\n",
    "    S=S+i+3\n",
    "print(S)\n",
    "m=int(input('Enter a natural number:'))\n",
    "P=1\n",
    "for i in range(0,m,2):\n",
    "    P=P*(i+3)\n",
    "print(P)"
   ]
  },
  {
   "cell_type": "code",
   "execution_count": 43,
   "metadata": {},
   "outputs": [],
   "source": [
    "def rn(n):\n",
    "    L={'Monday':0,'Tuesday':1,'Wednesday':2,'Thursday':3,'Friday':4,'Saturday':5,'Sunday':6}\n",
    "    for key, value in L.items():\n",
    "        if n==value:\n",
    "            return key \n",
    "    else:\n",
    "            print('Weekend')         \n",
    "rn()       "
   ]
  },
  {
   "cell_type": "code",
   "execution_count": 8,
   "metadata": {},
   "outputs": [],
   "source": [
    "def months(n):\n",
    "    M={0:31,1:28,2:31,3:30,4:31,5:30,6:31,7:31,8:30,9:31,10:30,11:31}\n",
    "    for key, value in M.items():\n",
    "        if n==key:\n",
    "            return value \n",
    "months(4)             "
   ]
  },
  {
   "cell_type": "code",
   "execution_count": 16,
   "metadata": {},
   "outputs": [
    {
     "name": "stdout",
     "output_type": "stream",
     "text": [
      "Elhadji Mamadou Mbaye\n",
      "Elhadji Mamadou Mbaye\n",
      "Elhadji Mamadou Mbaye\n",
      "Elhadji Mamadou Mbaye\n",
      "Elhadji Mamadou Mbaye\n",
      "Elhadji Mamadou Mbaye\n"
     ]
    }
   ],
   "source": [
    "for i in range(3):\n",
    "    print('Elhadji Mamadou Mbaye')\n",
    "j = 1 \n",
    "while j<4:\n",
    "    print('Elhadji Mamadou Mbaye')\n",
    "    j+=1        "
   ]
  },
  {
   "cell_type": "code",
   "execution_count": 18,
   "metadata": {},
   "outputs": [
    {
     "name": "stdout",
     "output_type": "stream",
     "text": [
      "Entrez le nombre 15 pour afficher les 15 termes de la sequence de Fibonacci: 15\n",
      "\n",
      " la suite fibonacci est :\n",
      "0 , 1, 1, 2, 3, 5, 8, 13, 21, 34, 55, 89, 144, 233, 377, "
     ]
    }
   ],
   "source": [
    "nterms = int(input(\"Entrez le nombre 15 pour afficher les 15 termes de la sequence de Fibonacci: \"))\n",
    "n1 = 0\n",
    "n2 = 1 \n",
    "print(\"\\n la suite fibonacci est :\")\n",
    "print(n1, \",\", n2, end=\", \") \n",
    "for i in range(2, nterms):\n",
    "    suivant = n1 + n2\n",
    "    print(suivant, end=\", \")\n",
    "    n1 = n2\n",
    "    n2 = suivant"
   ]
  },
  {
   "cell_type": "code",
   "execution_count": 30,
   "metadata": {
    "scrolled": true
   },
   "outputs": [
    {
     "name": "stdout",
     "output_type": "stream",
     "text": [
      "x(0) = 1\n",
      "x(1) = 2\n",
      "x(2) = -2\n",
      "x(3) = -2\n",
      "x(4) = -2\n",
      "x(5) = -2\n",
      "x(6) = -2\n",
      "x(7) = -2\n",
      "x(8) = -2\n",
      "x(9) = -2\n",
      "x(10) = -2\n",
      "x(11) = -2\n",
      "x(12) = -2\n",
      "x(13) = -2\n",
      "x(14) = -2\n",
      "x(15) = -2\n",
      "x(16) = -2\n",
      "x(17) = -2\n",
      "x(18) = -2\n",
      "x(19) = -2\n",
      "x(20) = -2\n",
      "x(21) = -2\n",
      "x(22) = -2\n",
      "x(23) = -2\n",
      "x(24) = -2\n",
      "x(25) = -2\n",
      "x(26) = -2\n",
      "x(27) = -2\n",
      "x(28) = -2\n",
      "x(29) = -2\n",
      "x(30) = -2\n",
      "x(31) = -2\n"
     ]
    }
   ],
   "source": [
    "n=0\n",
    "x0=1\n",
    "x1=2 \n",
    "print(f'x({n}) = {x0}')\n",
    "print(f'x({n+1}) = {x1}')\n",
    "for n in range(0,30):\n",
    "    x=int((1/2)*(x1-6*x0))\n",
    "    print(f'x({n+2}) = {x}')\n",
    "   "
   ]
  },
  {
   "cell_type": "code",
   "execution_count": 34,
   "metadata": {},
   "outputs": [
    {
     "name": "stdout",
     "output_type": "stream",
     "text": [
      "Entrer une annee bissextile:2021\n",
      "2021 n'ést pas bissextile\n"
     ]
    }
   ],
   "source": [
    "anbis=int((input('Entrer une annee pour savoir si elle est bissextile:')))\n",
    "if anbis%4==0:\n",
    "    print(anbis,'est une année bissextile')\n",
    "else:\n",
    "    print(anbis,'n\\'ést pas une année bissextile')"
   ]
  },
  {
   "cell_type": "code",
   "execution_count": 35,
   "metadata": {},
   "outputs": [
    {
     "name": "stdout",
     "output_type": "stream",
     "text": [
      "Entrer une annee bissextile:1988\n"
     ]
    },
    {
     "data": {
      "text/plain": [
       "True"
      ]
     },
     "execution_count": 35,
     "metadata": {},
     "output_type": "execute_result"
    }
   ],
   "source": [
    "anbis=int((input('Entrer une annee pour savoir si elle est bissextile par True or False:'))) \n",
    "anbis%4==0\n"
   ]
  },
  {
   "cell_type": "code",
   "execution_count": 49,
   "metadata": {
    "scrolled": true
   },
   "outputs": [
    {
     "name": "stdout",
     "output_type": "stream",
     "text": [
      "Entrer une valeur de n :5\n",
      "55\n",
      "Entrer une valeur:5\n",
      "55\n"
     ]
    }
   ],
   "source": [
    "n=int(input('Entrer une valeur de n :'))\n",
    "S=0\n",
    "for i in range(1,n+1):\n",
    "    S=S+(i**2)\n",
    "print(S)\n",
    "j=1\n",
    "SS=0\n",
    "m=int(input('Entrer une valeur:'))\n",
    "while j<n+1:\n",
    "    SS=SS+(j**2)\n",
    "    j+=1\n",
    "print(S)\n"
   ]
  },
  {
   "cell_type": "markdown",
   "metadata": {},
   "source": [
    "Write python code that prints all the divisors of a given natural number"
   ]
  },
  {
   "cell_type": "code",
   "execution_count": 53,
   "metadata": {},
   "outputs": [
    {
     "name": "stdout",
     "output_type": "stream",
     "text": [
      "Entrez un entier naturel 100\n",
      "1\n",
      "2\n",
      "4\n",
      "5\n",
      "10\n",
      "20\n",
      "25\n",
      "50\n",
      "100\n"
     ]
    }
   ],
   "source": [
    "N=int(input('Entrez un entier naturel '))\n",
    "for i in range(1,N+1):\n",
    "    if N%i==0:\n",
    "        print(i)\n",
    "    "
   ]
  },
  {
   "cell_type": "markdown",
   "metadata": {},
   "source": [
    "Read an integer number input by the user and calculate its prime factors. This will\n",
    "just be some of its divisors."
   ]
  },
  {
   "cell_type": "code",
   "execution_count": 10,
   "metadata": {},
   "outputs": [
    {
     "name": "stdout",
     "output_type": "stream",
     "text": [
      "Entrer un nombre pour verifier s'il a pour facteur premier les valeurs d'une liste donnée 56\n",
      "2 est facteur premier de 56\n",
      "3 n'est pas facteur premier de 56\n",
      "5 n'est pas facteur premier de 56\n",
      "7 est facteur premier de 56\n",
      "11 n'est pas facteur premier de 56\n",
      "13 n'est pas facteur premier de 56\n",
      "17 n'est pas facteur premier de 56\n",
      "19 n'est pas facteur premier de 56\n"
     ]
    }
   ],
   "source": [
    "N=int(input('Entrer un nombre pour verifier s\\'il a pour facteur premier les valeurs d\\'une liste donnée '))\n",
    "l=[2,3,5,7,11,13,17,19]\n",
    "for i in l:\n",
    "    if N%i==0:\n",
    "        print(i,'est facteur premier de',N)\n",
    "    else:\n",
    "        print(i,'n\\'est pas facteur premier de',N)"
   ]
  },
  {
   "cell_type": "markdown",
   "metadata": {},
   "source": [
    "10. Read an integer number between n 0 and 9 and print its multiplication table up to N\n",
    "where N is another another natural number read by the program."
   ]
  },
  {
   "cell_type": "code",
   "execution_count": 15,
   "metadata": {},
   "outputs": [
    {
     "name": "stdout",
     "output_type": "stream",
     "text": [
      "Entrez un nombre entre o et 9 pour generer la table de multiplication de ce nombre: 7\n",
      "Choisissez le dernier nombre de la multilplication 6\n",
      "7 * 0 = 0\n",
      "7 * 1 = 7\n",
      "7 * 2 = 14\n",
      "7 * 3 = 21\n",
      "7 * 4 = 28\n",
      "7 * 5 = 35\n",
      "7 * 6 = 42\n"
     ]
    }
   ],
   "source": [
    "n=int(input('Entrez un nombre entre o et 9 pour generer la table de multiplication de ce nombre: '))\n",
    "N=int(input('Choisissez le dernier nombre de la multilplication ',))\n",
    "for i in range(N+1):\n",
    "    print(n,'*',i,'=',i*n)\n",
    "    \n",
    "    "
   ]
  },
  {
   "cell_type": "markdown",
   "metadata": {},
   "source": [
    "Write a program that prints all the numbers between 0 and 40 that are multiples of 3, 7\n",
    "or 11"
   ]
  },
  {
   "cell_type": "code",
   "execution_count": 1,
   "metadata": {},
   "outputs": [
    {
     "name": "stdout",
     "output_type": "stream",
     "text": [
      "0 est multiple de 3\n"
     ]
    }
   ],
   "source": [
    "n=40\n",
    "j=0\n",
    "l=[3,7,11]      \n",
    "for i in l:\n",
    "    while j<n+1 and j/i==0 :\n",
    "            print(j,'est multiple de',i)\n",
    "            j+=1\n",
    "                  "
   ]
  },
  {
   "cell_type": "code",
   "execution_count": null,
   "metadata": {},
   "outputs": [],
   "source": []
  }
 ],
 "metadata": {
  "kernelspec": {
   "display_name": "Python 3",
   "language": "python",
   "name": "python3"
  },
  "language_info": {
   "codemirror_mode": {
    "name": "ipython",
    "version": 3
   },
   "file_extension": ".py",
   "mimetype": "text/x-python",
   "name": "python",
   "nbconvert_exporter": "python",
   "pygments_lexer": "ipython3",
   "version": "3.7.3"
  }
 },
 "nbformat": 4,
 "nbformat_minor": 2
}
